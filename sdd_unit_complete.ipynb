{
 "cells": [
  {
   "cell_type": "markdown",
   "id": "67de69c1",
   "metadata": {},
   "source": [
    "# SDD Midterm Snakestats statistical library\n",
    "## Author : Ch'ng Ying Jie\n",
    "### The unit test cases are listed below:\n",
    " \n",
    "There is an external snakestats.py file which include functions to pass the unit tests"
   ]
  },
  {
   "cell_type": "markdown",
   "id": "fca8301d",
   "metadata": {},
   "source": [
    "# TEST SET 1 (Mode function)"
   ]
  },
  {
   "cell_type": "code",
   "execution_count": 1,
   "id": "2b6b960c",
   "metadata": {},
   "outputs": [
    {
     "name": "stderr",
     "output_type": "stream",
     "text": [
      "test_mode_returnmode (__main__.TestsForMode) ... ok\n",
      "test_mode_similarmode (__main__.TestsForMode) ... ok\n",
      "test_mode_valuecounts (__main__.TestsForMode) ... ok\n",
      "\n",
      "----------------------------------------------------------------------\n",
      "Ran 3 tests in 0.012s\n",
      "\n",
      "OK\n"
     ]
    },
    {
     "data": {
      "text/plain": [
       "<unittest.main.TestProgram at 0x1f645b47040>"
      ]
     },
     "execution_count": 1,
     "metadata": {},
     "output_type": "execute_result"
    }
   ],
   "source": [
    "import unittest\n",
    "import snakestats\n",
    "class TestsForMode(unittest.TestCase):\n",
    "    \n",
    "    # a simple test that return value counts of mode element\n",
    "    # Example : mode element 2 returns 3 value counts\n",
    "    \n",
    "    def test_mode_valuecounts(self):\n",
    "        res = snakestats.find_count([1,1,2,2,2])\n",
    "        self.assertEqual(res, 3)\n",
    "    \n",
    "    #test to find mode value\n",
    "    \n",
    "    def test_mode_returnmode(self):\n",
    "        res = snakestats.find_mode([11,11,12,12,13,13,13])\n",
    "        self.assertEqual(res, [13])\n",
    "        \n",
    "    \n",
    "    #   test for similar mode values\n",
    "    def test_mode_similarmode(self):\n",
    "        res = snakestats.find_mode([1,1,3,3])\n",
    "        self.assertEqual(res, [1,3])\n",
    "        \n",
    "        \n",
    "unittest.main(argv=['ignored', '-v'], exit=False)"
   ]
  },
  {
   "cell_type": "markdown",
   "id": "010052dc",
   "metadata": {},
   "source": [
    "# TEST SET 2 (Median function)"
   ]
  },
  {
   "cell_type": "code",
   "execution_count": 2,
   "id": "0e43478f",
   "metadata": {},
   "outputs": [
    {
     "name": "stderr",
     "output_type": "stream",
     "text": [
      "test_median_evenlength (__main__.TestsForMedian) ... ok\n",
      "test_median_oddlength (__main__.TestsForMedian) ... ok\n",
      "test_median_unordered (__main__.TestsForMedian) ... ok\n",
      "test_mode_returnmode (__main__.TestsForMode) ... ok\n",
      "test_mode_similarmode (__main__.TestsForMode) ... ok\n",
      "test_mode_valuecounts (__main__.TestsForMode) ... ok\n",
      "\n",
      "----------------------------------------------------------------------\n",
      "Ran 6 tests in 0.023s\n",
      "\n",
      "OK\n"
     ]
    },
    {
     "data": {
      "text/plain": [
       "<unittest.main.TestProgram at 0x1f645b8a280>"
      ]
     },
     "execution_count": 2,
     "metadata": {},
     "output_type": "execute_result"
    }
   ],
   "source": [
    "class TestsForMedian(unittest.TestCase):\n",
    "    \n",
    "    #test median for list of odd length\n",
    "    def test_median_oddlength(self):\n",
    "        med = snakestats.median([1,2,3,4,5])\n",
    "        self.assertEqual(med, 3)\n",
    "    \n",
    "    #test median for list of even\n",
    "    def test_median_evenlength(self):\n",
    "        med = snakestats.median([1,2,3,4,5,6])\n",
    "        self.assertEqual(med, 3.5)\n",
    "        \n",
    "    #test median for unordered elements\n",
    "    def test_median_unordered(self):\n",
    "        med = snakestats.median([4,2,5,3,1,6])\n",
    "        self.assertEqual(med, 3.5)\n",
    "\n",
    "unittest.main(argv=['ignored', '-v'], exit=False)"
   ]
  },
  {
   "cell_type": "markdown",
   "id": "519d95e8",
   "metadata": {},
   "source": [
    "# TEST SET 3 (find lowest positive value function)"
   ]
  },
  {
   "cell_type": "code",
   "execution_count": 3,
   "id": "e63cf4e3",
   "metadata": {},
   "outputs": [
    {
     "name": "stderr",
     "output_type": "stream",
     "text": [
      "test_getLow (__main__.TestsForLowest_Positivenumber) ... ok\n",
      "test_getLow_wronginputtype (__main__.TestsForLowest_Positivenumber) ... ok\n",
      "test_getLow_wrongvalue (__main__.TestsForLowest_Positivenumber) ... ok\n",
      "test_median_evenlength (__main__.TestsForMedian) ... ok\n",
      "test_median_oddlength (__main__.TestsForMedian) ... ok\n",
      "test_median_unordered (__main__.TestsForMedian) ... ok\n",
      "test_mode_returnmode (__main__.TestsForMode) ... ok\n",
      "test_mode_similarmode (__main__.TestsForMode) ... ok\n",
      "test_mode_valuecounts (__main__.TestsForMode) ... ok\n",
      "\n",
      "----------------------------------------------------------------------\n",
      "Ran 9 tests in 0.043s\n",
      "\n",
      "OK\n"
     ]
    },
    {
     "data": {
      "text/plain": [
       "<unittest.main.TestProgram at 0x1f645b7da60>"
      ]
     },
     "execution_count": 3,
     "metadata": {},
     "output_type": "execute_result"
    }
   ],
   "source": [
    "class TestsForLowest_Positivenumber(unittest.TestCase):\n",
    "    \n",
    "    #get lowest value \n",
    "    def test_getLow(self):\n",
    "        low = snakestats.getLow([1,2,3,4,5])\n",
    "        self.assertEqual(low, 1)\n",
    "    \n",
    "    #test if function show error if wrong value is inserted\n",
    "    def test_getLow_wrongvalue(self):\n",
    "        self.assertRaises(ValueError,snakestats.getLow,[-1])\n",
    "        \n",
    "    #test if error of input types is raised\n",
    "    def test_getLow_wronginputtype(self):\n",
    "        self.assertRaises(TypeError,snakestats.getLow,\"not a number\")\n",
    "        self.assertRaises(TypeError,snakestats.getLow,[True])\n",
    "\n",
    "    \n",
    "unittest.main(argv=['ignored', '-v'], exit=False)"
   ]
  }
 ],
 "metadata": {
  "kernelspec": {
   "display_name": "Python 3 (ipykernel)",
   "language": "python",
   "name": "python3"
  },
  "language_info": {
   "codemirror_mode": {
    "name": "ipython",
    "version": 3
   },
   "file_extension": ".py",
   "mimetype": "text/x-python",
   "name": "python",
   "nbconvert_exporter": "python",
   "pygments_lexer": "ipython3",
   "version": "3.9.13"
  }
 },
 "nbformat": 4,
 "nbformat_minor": 5
}
